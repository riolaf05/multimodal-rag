{
 "cells": [
  {
   "cell_type": "markdown",
   "metadata": {},
   "source": [
    "* [Multimodal Retrieval with Text Embedding and CLIP Image Embedding for Backyard Birds](https://levelup.gitconnected.com/multimodal-retrieval-with-text-embedding-and-clip-image-embedding-for-backyard-birds-599f19057a70)\n",
    "\n",
    "* [Image (embedding) sourcing with retrieval QA ](https://github.com/langchain-ai/langchain/discussions/8921)"
   ]
  },
  {
   "cell_type": "markdown",
   "metadata": {},
   "source": [
    "![Alt text](https://miro.medium.com/v2/resize:fit:1100/format:webp/0*dFJuZkLnsXEjTU_n.gif \"architecture\")"
   ]
  },
  {
   "cell_type": "code",
   "execution_count": 1,
   "metadata": {},
   "outputs": [
    {
     "name": "stderr",
     "output_type": "stream",
     "text": [
      "c:\\Users\\ELAFACRB1\\venvs\\langchain\\Lib\\site-packages\\tqdm\\auto.py:21: TqdmWarning: IProgress not found. Please update jupyter and ipywidgets. See https://ipywidgets.readthedocs.io/en/stable/user_install.html\n",
      "  from .autonotebook import tqdm as notebook_tqdm\n"
     ]
    },
    {
     "data": {
      "text/plain": [
       "True"
      ]
     },
     "execution_count": 1,
     "metadata": {},
     "output_type": "execute_result"
    }
   ],
   "source": [
    "import os\n",
    "import sys \n",
    "sys.path.append(r'..')\n",
    "from utils.database_managers import QDrantDBManager\n",
    "from utils.embedding import EmbeddingFunction\n",
    "import torch\n",
    "import clip\n",
    "import numpy as np\n",
    "from PIL import Image\n",
    "from llama_index.core.schema import ImageDocument\n",
    "\n",
    "from dotenv import load_dotenv\n",
    "load_dotenv(override=True)"
   ]
  },
  {
   "cell_type": "code",
   "execution_count": 2,
   "metadata": {},
   "outputs": [
    {
     "name": "stderr",
     "output_type": "stream",
     "text": [
      "Fetching 5 files: 100%|██████████| 5/5 [00:00<00:00, 2728.89it/s]\n"
     ]
    }
   ],
   "source": [
    "embedding = EmbeddingFunction('fast-bgeEmbedding').embedder"
   ]
  },
  {
   "cell_type": "code",
   "execution_count": 3,
   "metadata": {},
   "outputs": [],
   "source": [
    "\n",
    "QDRANT_URL=os.getenv('QDRANT_URL')\n",
    "COLLECTION_NAME=\"images\"\n",
    "\n",
    "qdrantClient = QDrantDBManager(\n",
    "    url=QDRANT_URL,\n",
    "    port=6333,\n",
    "    collection_name=COLLECTION_NAME,\n",
    "    vector_size=512,\n",
    "    embedding=embedding,\n",
    "    record_manager_url=\"sqlite:///record_manager_cache.sql\"\n",
    ")\n"
   ]
  },
  {
   "cell_type": "code",
   "execution_count": 4,
   "metadata": {},
   "outputs": [],
   "source": [
    "# load the CLIP model with the name ViT-B/32\n",
    "model, preprocess = clip.load(\"ViT-B/32\")"
   ]
  },
  {
   "cell_type": "code",
   "execution_count": 5,
   "metadata": {},
   "outputs": [
    {
     "name": "stdout",
     "output_type": "stream",
     "text": [
      "Model parameters: 151,277,313\n",
      "Input resolution: 224\n",
      "Context length: 77\n",
      "Vocab size: 49408\n",
      "cpu\n"
     ]
    }
   ],
   "source": [
    "# the resolution of the input images expected by the model\n",
    "input_resolution = model.visual.input_resolution\n",
    "\n",
    "# the maximum length of the input text\n",
    "context_length = model.context_length\n",
    "\n",
    "# the size of the vocabulary used by the model\n",
    "vocab_size = model.vocab_size\n",
    "\n",
    "# print the information about the model to the console\n",
    "print(\n",
    "    \"Model parameters:\",\n",
    "    f\"{np.sum([int(np.prod(p.shape)) for p in model.parameters()]):,}\",\n",
    ")\n",
    "print(\"Input resolution:\", input_resolution)\n",
    "print(\"Context length:\", context_length)\n",
    "print(\"Vocab size:\", vocab_size)\n",
    "\n",
    "# set the device to use for the CLIP model, either CUDA (GPU) or CPU, depending on availability\n",
    "device = \"cuda\" if torch.cuda.is_available() else \"cpu\"\n",
    "print(device)"
   ]
  },
  {
   "cell_type": "code",
   "execution_count": 6,
   "metadata": {},
   "outputs": [],
   "source": [
    "# image_metadata_dict stores images metadata including filename and path\n",
    "image_metadata_dict = {}\n",
    "# Get a list of all the image files in the `images` folder.\n",
    "image_files = os.listdir(\"data/images\")\n",
    "\n",
    "# Loop through each image file and add metadata.\n",
    "for image_file in image_files:\n",
    "  image_path = os.path.join(\"data/images\", image_file)\n",
    "\n",
    "  # Get the image filename.\n",
    "  image_filename = os.path.basename(image_path)\n",
    "\n",
    "  # Get the image file path.\n",
    "  image_file_path = os.path.abspath(image_path)\n",
    "\n",
    "  # Create a dictionary to store the image metadata.\n",
    "  image_metadata_dict[image_filename] = {\n",
    "    \"filename\": image_filename,\n",
    "    \"img_path\": image_file_path,\n",
    "  }\n",
    "\n",
    "# img_emb_dict stores image embeddings for each image\n",
    "img_emb_dict = {}"
   ]
  },
  {
   "cell_type": "code",
   "execution_count": 7,
   "metadata": {},
   "outputs": [
    {
     "data": {
      "text/plain": [
       "{'pianta.jpg': {'filename': 'pianta.jpg',\n",
       "  'img_path': 'c:\\\\Users\\\\ELAFACRB1\\\\Codice\\\\GitHub\\\\multimodal-rag\\\\notebooks\\\\data\\\\images\\\\pianta.jpg'},\n",
       " 'plant_disease.jpg': {'filename': 'plant_disease.jpg',\n",
       "  'img_path': 'c:\\\\Users\\\\ELAFACRB1\\\\Codice\\\\GitHub\\\\multimodal-rag\\\\notebooks\\\\data\\\\images\\\\plant_disease.jpg'},\n",
       " 'TRUPPE-CAMMELLATE.jpg': {'filename': 'TRUPPE-CAMMELLATE.jpg',\n",
       "  'img_path': 'c:\\\\Users\\\\ELAFACRB1\\\\Codice\\\\GitHub\\\\multimodal-rag\\\\notebooks\\\\data\\\\images\\\\TRUPPE-CAMMELLATE.jpg'}}"
      ]
     },
     "execution_count": 7,
     "metadata": {},
     "output_type": "execute_result"
    }
   ],
   "source": [
    "image_metadata_dict"
   ]
  },
  {
   "cell_type": "code",
   "execution_count": 8,
   "metadata": {},
   "outputs": [],
   "source": [
    "with torch.no_grad():\n",
    "    # iterate over the image metadata dictionary and extracts image embeddings for each image\n",
    "    for image_filename in image_metadata_dict:\n",
    "        img_file_path = image_metadata_dict[image_filename][\"img_path\"]\n",
    "        if os.path.isfile(img_file_path):\n",
    "            image = (\n",
    "                # preprocess the image using the CLIP model's preprocess function\n",
    "                # unsqueeze the image tensor to add a batch dimension\n",
    "                # move the image tensor to the device specified in line 1\n",
    "                preprocess(Image.open(img_file_path)).unsqueeze(0).to(device)\n",
    "            )\n",
    "\n",
    "            # extract image features using the CLIP model's encode_image function\n",
    "            image_features = model.encode_image(image)\n",
    "\n",
    "            # store the image features in the image embedding dictionary\n",
    "            img_emb_dict[image_filename] = image_features"
   ]
  },
  {
   "cell_type": "code",
   "execution_count": 9,
   "metadata": {},
   "outputs": [
    {
     "data": {
      "text/plain": [
       "{'pianta.jpg': tensor([[ 1.4576e-01,  6.2332e-01,  2.0993e-01, -3.2803e-01, -3.4508e-01,\n",
       "           1.1238e-01, -9.9051e-02, -3.2699e-02,  5.1548e-01,  6.0756e-03,\n",
       "          -1.0603e-03,  3.1949e-01, -2.5250e-01, -4.1909e-01,  3.8422e-01,\n",
       "          -3.8412e-02,  1.6606e-01, -9.1923e-03,  4.8247e-01, -4.5567e-02,\n",
       "          -5.7242e-01,  5.6051e-01,  5.6144e-01,  5.0981e-01, -1.5633e-01,\n",
       "           2.6539e-01,  2.0050e-01, -6.4849e-02,  5.0369e-01,  1.8252e-01,\n",
       "           5.6538e-01,  1.6246e-01, -1.7286e-01, -1.4663e-01, -3.9906e-02,\n",
       "          -3.5772e-01,  3.7248e-01,  3.6389e-02,  4.1919e-01,  1.7645e+00,\n",
       "          -4.0099e-02, -4.5936e-02, -1.2406e-01,  2.8881e-01, -1.6331e-01,\n",
       "          -1.5549e+00, -8.7837e-01,  3.8911e-01,  1.8585e-01, -5.6671e-02,\n",
       "           5.7360e-01, -5.2999e-01,  2.1839e-01,  1.1467e-01, -4.3860e-01,\n",
       "           2.5565e-01, -8.8153e-03, -1.8318e-02,  3.9262e-01,  2.7290e-01,\n",
       "           1.9362e-01, -3.2572e-01, -7.6968e-02, -1.9753e-02, -3.9945e-01,\n",
       "          -2.9699e-02, -3.9288e-01,  5.4057e-01, -5.6933e-02, -1.4943e-01,\n",
       "           1.2113e-02,  2.1854e-01, -4.6966e-01, -1.5445e-01, -1.1615e-01,\n",
       "          -5.7420e-01,  2.1718e-01, -1.2794e-01,  6.4445e-02, -2.8905e-01,\n",
       "          -2.2285e-01, -9.8962e-02, -2.1625e-01, -3.0902e-01,  3.6516e-01,\n",
       "          -2.4199e-02,  1.1608e+00, -2.9916e-01, -6.6379e-01, -2.6869e-01,\n",
       "           1.7082e-01, -4.8977e-01, -6.0242e+00,  9.9748e-02, -9.4197e-02,\n",
       "           5.3853e-02,  1.1060e-01,  4.3369e-01, -4.8155e-01,  7.4310e-01,\n",
       "          -3.4174e-01, -5.0612e-01, -1.2378e-01,  3.0781e-01, -1.8433e-02,\n",
       "          -2.8001e-01, -3.6999e-01, -3.7089e-02,  3.3556e-03,  1.5982e-02,\n",
       "           1.9970e-01,  5.9717e-01,  4.4629e-02,  3.8574e-01, -2.5044e-02,\n",
       "           6.3287e-02, -4.0340e-01,  7.7935e-01,  3.9087e-01, -4.2324e-01,\n",
       "           3.8023e-01,  2.9548e-01, -2.3350e-01, -3.3324e-01,  2.7955e-01,\n",
       "           1.3261e-01,  3.8234e-01,  1.2805e-01,  5.9051e-02, -9.2066e-02,\n",
       "           1.9558e-01, -3.0925e-02, -1.4257e-01,  7.7121e-01,  4.5616e-01,\n",
       "           6.0375e-01,  5.7169e-01, -3.8349e-01, -4.1605e-02,  1.2665e-01,\n",
       "           2.6907e-01,  2.2510e-01,  1.6816e-01,  2.4373e-01,  2.8871e-01,\n",
       "           6.6462e-02, -2.9554e-01,  9.4966e-02,  1.9490e-01, -3.5162e-01,\n",
       "           3.5098e-01, -1.2074e-01,  9.4335e-01, -5.3724e-01,  1.4529e-01,\n",
       "          -5.0120e-02, -7.9295e-01,  9.3773e-02, -2.0890e-01, -1.8800e-01,\n",
       "          -9.1030e-02, -2.7376e-01, -3.6334e-01,  2.9204e-02, -3.8039e-02,\n",
       "           3.4515e-01,  2.9792e-01,  2.1359e-01,  1.7517e-01, -9.6678e-02,\n",
       "          -3.5299e-02,  3.1390e-01,  1.4491e-01, -2.1064e-02,  8.7628e-02,\n",
       "           1.7378e-01, -3.7818e-03,  1.9355e-01, -1.9432e-01,  4.7438e-02,\n",
       "           8.0808e-01, -1.4681e-01,  4.1787e-01, -2.1974e-01,  3.1556e-01,\n",
       "          -6.7882e-02, -1.5069e-01, -1.0236e-01, -4.1946e-01, -9.8016e-02,\n",
       "           1.4588e-01, -5.8699e-02,  4.1021e-01, -2.7830e-01, -1.1088e-02,\n",
       "          -1.5575e-01,  3.1827e-01,  1.8135e-01, -6.9062e-02, -7.1337e-03,\n",
       "           2.3698e-01, -2.2846e-01,  1.5457e-01,  2.6938e-01, -5.6885e-01,\n",
       "          -1.6672e-01,  4.5775e-02,  5.0288e-02, -3.8553e-01,  4.3948e-01,\n",
       "          -3.6746e-01,  9.4666e-01, -2.2075e-01,  2.6039e-01, -4.3220e-01,\n",
       "          -8.9102e-02,  2.4494e-02,  4.4561e-01,  1.2402e+00,  8.3949e-02,\n",
       "           5.4860e-01, -5.9477e-02, -3.1145e-01, -3.6443e-01, -4.7172e-03,\n",
       "           1.2356e-01, -3.9083e-01,  8.9500e-02, -5.0228e-01, -1.2863e-01,\n",
       "          -4.4568e-02, -8.9140e-02,  5.8081e-02,  1.1626e-01, -2.9758e-01,\n",
       "           6.4837e-02,  1.8942e-01,  1.5017e-01, -7.7407e-03, -3.6188e-01,\n",
       "           2.1073e-01,  8.2251e-02, -7.1143e-02,  5.7246e-02, -1.0784e-01,\n",
       "           1.0613e+00,  3.2036e-02, -1.3736e-01, -3.5786e-01, -2.1125e-01,\n",
       "          -3.5193e-01,  3.8234e-02, -6.4395e-02, -2.1111e-01,  3.4700e-02,\n",
       "           4.2572e-01, -1.0828e-01,  4.6898e-01, -8.5204e-01, -5.7190e-02,\n",
       "           4.7535e-02,  1.8210e-01, -8.6634e-02, -1.7402e-01, -1.8364e-01,\n",
       "          -4.4450e-01, -2.4271e-01,  5.5885e-01, -2.0646e-01, -2.1814e-01,\n",
       "          -2.4692e-01,  1.1602e-01, -1.1047e-01, -5.3424e-01,  5.2089e-02,\n",
       "          -5.5429e-02,  3.7759e-01, -3.4900e-01, -4.4170e-01, -5.7439e-01,\n",
       "           8.2318e-02, -2.8455e-01, -2.1444e-01, -5.1192e-03,  1.1027e-01,\n",
       "          -4.8322e-01, -3.8203e-01,  3.6129e-01, -3.2089e-01,  1.4541e-01,\n",
       "           3.3074e-01, -9.2077e-02,  4.6783e-02,  2.5111e-01, -9.1738e-02,\n",
       "           5.1683e-02,  5.6453e-01,  4.7606e-01,  3.8425e-01,  4.3808e-01,\n",
       "          -3.0718e-01, -1.8110e-01,  1.7245e-01,  2.7857e-01,  1.6856e-01,\n",
       "          -2.1518e-01, -4.4554e-02, -1.2442e-01,  4.5920e-01,  1.4814e-01,\n",
       "          -3.7142e-01,  3.2649e-01,  7.7029e-01,  6.4878e-02, -1.4229e-02,\n",
       "          -1.8164e-01,  1.1844e+00,  9.2527e-01, -8.3650e-02, -2.4969e-01,\n",
       "           7.1231e-02,  3.1087e+00, -6.1311e-01, -3.2688e-01,  3.2637e-01,\n",
       "          -1.2900e-01,  3.6882e-01,  1.2516e-01, -2.3765e-01, -2.7014e-01,\n",
       "          -4.0236e-02, -5.4547e-02, -5.4931e-01, -7.7313e-01, -4.7915e-01,\n",
       "          -2.4514e-02,  2.3664e-01,  3.9250e-01,  2.9749e-01,  2.1948e-01,\n",
       "          -1.5122e-01,  1.0247e-01, -9.0106e-02,  1.9826e-01,  1.5326e-01,\n",
       "           7.5071e-02, -8.1947e-01,  3.7715e-02, -4.8990e-01, -2.3481e-01,\n",
       "          -2.0878e-02, -5.1800e-04,  2.7320e-01, -5.4585e-02, -9.1175e-02,\n",
       "          -3.7988e-01, -2.3073e-02,  7.1130e-02, -5.5450e-02, -3.3333e-01,\n",
       "          -1.4561e-01, -2.4952e-01, -8.2524e-02, -5.3186e-01,  1.2750e-01,\n",
       "           3.6445e-01, -4.0500e-01,  2.7362e-02,  9.2316e-02,  3.4775e-01,\n",
       "          -2.1462e-01, -6.1002e-02, -9.6002e-02,  5.6307e-01,  1.4815e-01,\n",
       "          -8.5257e-02,  1.1247e+00, -5.7140e-02,  2.2351e-02,  4.8767e-01,\n",
       "           1.6940e-01, -4.2453e-01,  5.7545e-02,  1.6941e-02,  5.4063e-01,\n",
       "          -1.5080e-01,  3.6378e-01,  1.7955e-01, -6.7676e-02,  3.2845e-01,\n",
       "          -6.1791e-01, -2.2317e-01, -2.7698e-01, -9.8513e-02, -4.3824e-01,\n",
       "          -8.2315e-02, -1.3868e-01, -3.2947e-01, -4.8559e-01,  1.4099e-02,\n",
       "          -4.4902e-02, -3.5339e-01,  9.0431e-01, -2.2152e-01,  1.5250e-01,\n",
       "          -1.7413e-03, -4.3767e-01, -1.2856e-01, -2.4078e-01, -4.1558e-02,\n",
       "           4.6584e-01, -3.7277e-01,  1.8363e-01,  1.1159e-01, -3.9063e-01,\n",
       "          -3.9672e-03,  7.2048e-02,  2.4846e-01, -8.3705e-02, -5.8417e-01,\n",
       "           2.6772e-01,  2.1632e-01,  6.3827e-01, -4.3596e-01,  5.9683e-02,\n",
       "           6.3086e-02, -3.0380e-01,  2.2391e-01, -1.9747e+00, -1.4703e-01,\n",
       "          -6.0757e-02, -1.7866e-01,  1.1867e+00, -3.2942e-01,  1.0471e-02,\n",
       "          -5.4515e-01, -3.6095e-01,  4.9630e-01, -7.6068e-02, -1.8068e-01,\n",
       "          -3.7262e-01,  8.2599e-01, -4.1483e-02,  3.7493e-01, -2.7477e-01,\n",
       "          -4.9184e-01,  2.2494e-01, -2.3505e-01, -4.2406e-01,  1.1732e-01,\n",
       "           1.2230e-01,  4.0917e-01,  3.8807e-01,  2.8841e-01,  1.2324e-01,\n",
       "          -1.9722e-01,  6.4197e-01,  2.2756e-01,  3.1638e-01, -1.6570e-01,\n",
       "          -2.3044e-02, -2.2158e-01,  1.4700e-01, -1.8475e-01,  5.3716e-01,\n",
       "          -2.4599e-01,  4.3583e-01, -1.3475e-01,  3.1420e-01,  3.1697e-01,\n",
       "           8.4667e-01,  4.3130e-02,  1.0100e-02, -2.9251e-01, -1.6014e-01,\n",
       "          -3.6063e-01,  5.7667e-02,  2.8555e-03,  1.5003e-01,  2.3404e-01,\n",
       "          -2.3146e-01, -6.8952e-01,  2.0378e-01, -5.2443e-02,  6.3352e-01,\n",
       "           3.3662e-01, -3.4931e-01,  4.1072e-01,  4.3330e-03, -1.8776e-01,\n",
       "           4.6495e-02, -4.0810e-01,  2.6997e-01, -5.0596e-01, -3.9245e-01,\n",
       "          -2.9849e-01,  4.8353e-01,  3.8801e-02,  4.6865e-01, -4.2701e-01,\n",
       "          -1.5762e-02,  8.5539e-02, -1.3494e-01,  4.6666e-02,  1.8825e-01,\n",
       "          -4.9692e-01, -2.6209e-01,  1.1027e-03, -1.9452e-01,  1.1208e-01,\n",
       "          -1.7937e-01,  6.3497e-02]]),\n",
       " 'plant_disease.jpg': tensor([[ 4.8719e-01,  1.5753e-01,  3.4585e-01,  3.1419e-01, -3.0393e-02,\n",
       "           3.4546e-02, -2.1366e-02,  5.6947e-03,  5.3838e-01, -6.7965e-01,\n",
       "           2.0605e-03,  2.4419e-01, -5.0102e-01,  3.2254e-01,  2.6948e-01,\n",
       "          -1.8568e-01,  6.4128e-01, -1.1818e-01,  3.9555e-01, -1.4528e-01,\n",
       "          -9.8636e-01,  1.0845e-01, -2.3163e-01,  8.9715e-02, -7.6899e-02,\n",
       "          -3.4810e-02, -1.8860e-02, -3.1176e-01,  4.0658e-01, -1.9738e-01,\n",
       "           4.9677e-01, -3.0157e-02, -1.0982e-01, -4.8637e-01,  3.7078e-01,\n",
       "          -2.8079e-01,  1.1589e-01, -6.9956e-01,  1.3085e-01, -5.7509e-02,\n",
       "           7.7221e-02,  5.2396e-02, -2.1307e-01, -4.2113e-02,  6.2490e-01,\n",
       "          -1.3388e+00,  2.5183e-01,  3.8847e-02, -9.2918e-02,  1.6678e-01,\n",
       "           3.4079e-01, -5.8083e-01,  3.4850e-01, -2.4927e-01, -3.1590e-01,\n",
       "           3.7250e-01, -6.1749e-04,  5.1900e-02, -2.2460e-01,  9.3314e-02,\n",
       "           7.6884e-01, -7.9605e-02,  2.4560e-01,  1.7930e-01, -1.8917e-01,\n",
       "          -2.4847e-01,  2.9020e-01,  5.7625e-01, -1.6012e-01,  3.3658e-01,\n",
       "          -4.9877e-01,  1.8097e-01,  8.9001e-02, -6.2162e-01, -3.0328e-01,\n",
       "           2.2009e-02,  6.3967e-02,  6.5807e-01,  1.2443e-01, -4.5130e-01,\n",
       "          -5.0568e-01, -1.3236e-01,  3.8776e-01, -1.2768e+00,  2.4509e-01,\n",
       "          -1.2571e-01,  1.4166e+00, -1.6240e-01,  2.9398e-01, -7.4102e-02,\n",
       "           7.4069e-01,  5.8481e-02, -5.3704e+00, -9.2285e-03,  1.4365e-02,\n",
       "           3.9971e-03,  8.2157e-01,  1.9942e-01, -1.3728e+00,  5.9245e-01,\n",
       "          -3.3915e-01,  6.9455e-02, -2.2755e-01, -3.5538e-01, -3.7138e-01,\n",
       "          -1.0359e-01, -2.7879e+00,  3.2494e-01, -6.2356e-01, -7.9221e-02,\n",
       "          -8.8333e-02, -2.0084e-01, -1.2231e-01,  2.3535e-02, -1.5442e-01,\n",
       "          -1.5208e-01,  4.0155e-01,  3.1812e-01,  3.2903e-01, -3.8714e-01,\n",
       "           1.4302e-01, -2.2883e-02, -1.3563e-01, -7.6266e-02,  3.8937e-02,\n",
       "          -2.7648e-01, -1.7503e-01, -6.5254e-01, -3.5607e-02,  1.5224e-01,\n",
       "           7.3727e-01, -4.1645e-02, -2.9429e-01,  7.9370e-01, -5.1720e-03,\n",
       "           3.9708e-01,  2.5480e-02, -8.2321e-01,  3.8833e-01,  7.0117e-02,\n",
       "           1.2005e-01,  7.8116e-01, -8.1498e-01,  7.1527e-01,  1.3423e-01,\n",
       "           4.7123e-01, -4.7873e-01,  9.0787e-02,  6.1604e-02, -2.3306e-01,\n",
       "           6.8691e-02, -3.6789e-01,  4.2245e-01, -1.1218e-01,  4.3936e-01,\n",
       "           5.7776e-02, -3.3906e-01,  4.5783e-01,  4.0276e-01, -2.6018e-01,\n",
       "          -4.5175e-02, -3.8551e-01, -4.5744e-01,  2.3798e-01, -3.1727e-01,\n",
       "           2.5583e-01, -1.2344e+00,  1.0426e-01,  1.3488e-01,  2.4411e-01,\n",
       "           9.8155e-02,  5.4588e-02, -3.3345e-01,  2.1268e-01,  1.6662e-01,\n",
       "           7.5746e-02, -5.5043e-02,  5.8600e-01,  4.9329e-01, -1.6786e-02,\n",
       "           1.3922e-01, -9.8879e-02, -2.3992e-01, -2.8516e-01, -3.0625e-02,\n",
       "           1.8256e-01,  2.5880e-01, -2.5028e-01, -3.4999e-01,  1.0916e-01,\n",
       "           1.8684e-01, -1.8497e-01,  1.9292e-01, -5.2381e-01, -1.4783e-01,\n",
       "          -2.3715e-01,  2.1411e-02, -3.9609e-01,  2.1937e-01,  2.7219e-01,\n",
       "          -1.8158e-01, -1.3197e-01,  2.6255e-01, -3.2881e-01,  2.2976e-01,\n",
       "           1.8959e-01, -2.6753e-01, -3.0855e-01,  2.2523e-01,  5.3841e-01,\n",
       "          -2.2432e-01,  7.8614e-01, -1.5080e-01,  5.2087e-01,  2.2102e-02,\n",
       "          -1.8703e-01, -1.1709e-01, -5.4143e-02, -5.6871e-02,  8.0811e-02,\n",
       "           3.3150e-01,  9.2117e-01, -1.3537e-01, -6.0901e-01,  5.0124e-02,\n",
       "          -8.0613e-02,  5.5400e-01, -3.8662e-03,  1.5201e-01,  1.2551e-01,\n",
       "          -7.5443e-01, -5.9237e-02, -2.2726e-01, -7.4582e-01, -2.1903e-01,\n",
       "           1.0471e+00, -1.6604e-01, -5.8611e-02,  3.7257e-01,  3.5134e-01,\n",
       "          -1.2200e-02,  3.0541e-01, -4.9029e-01, -4.6803e-01, -1.4527e-01,\n",
       "          -8.1514e-01,  7.3251e-02,  2.0385e-02, -1.6972e-01, -3.8391e-01,\n",
       "          -2.8034e-01,  1.8230e-01,  1.8213e-01,  1.0658e-01, -2.8771e-01,\n",
       "           1.5378e-01, -1.4615e-01,  2.0213e-01,  1.4554e+00,  2.5364e-01,\n",
       "          -3.2188e-01,  1.2078e-01,  5.0488e-01, -3.8286e-01, -3.3967e-01,\n",
       "          -6.7554e-01, -3.5551e-01,  1.2763e-01,  6.0064e-02,  6.0084e-02,\n",
       "           9.7726e-02,  2.2397e-01, -6.1895e-01, -5.2794e-01, -2.2502e-01,\n",
       "          -2.8905e-01, -1.0313e-01,  2.5545e-02, -5.0086e-03, -4.4753e-01,\n",
       "           1.7142e-01,  1.7799e-01,  2.3029e-01,  4.7738e-01,  1.7194e-01,\n",
       "           5.7909e-02, -2.1241e+00, -2.0206e-01,  8.8587e-02,  5.6559e-02,\n",
       "           4.5869e-01, -3.7981e-01, -1.0872e-01, -5.2232e-02, -1.1481e-01,\n",
       "          -3.1359e-01,  5.5634e-01, -5.9106e-02,  7.3929e-01,  4.0060e-01,\n",
       "          -2.3393e-01, -1.5341e-01, -5.9620e-01,  1.2605e-01,  3.5722e-01,\n",
       "           2.6322e-01, -7.1942e-01, -2.1256e-01,  7.6113e-01,  2.5470e-01,\n",
       "           7.2983e-02,  2.8749e-02,  7.9256e-01,  2.2707e-01, -3.6391e-01,\n",
       "           2.4137e-02,  9.5164e-02,  4.9445e-01,  2.3543e-02, -3.3400e-01,\n",
       "          -4.7446e-02,  1.9416e+00, -8.7873e-02, -6.5862e-01,  5.1036e-02,\n",
       "           3.1458e-01,  2.4952e-01,  4.7129e-01,  4.2356e-01, -4.1000e-01,\n",
       "           3.6097e-01,  3.9417e-02,  3.3580e-01,  1.6629e-02,  7.7350e-02,\n",
       "           2.7100e-01,  4.3166e-01,  5.3396e-03,  5.2378e-01,  8.0227e-01,\n",
       "          -1.4053e-01, -4.7756e-01, -1.4193e-01,  2.3516e-01,  8.9262e-02,\n",
       "          -4.0404e-01, -3.9281e-01,  4.4208e-01, -1.7676e-01,  5.3651e-01,\n",
       "           4.2769e-01, -2.8024e-01,  8.9972e-01,  1.1654e-02, -3.8013e-01,\n",
       "           1.5095e-02, -3.1183e-02, -1.6295e+00,  4.3302e-01, -2.1621e-01,\n",
       "          -4.6531e-02,  3.4053e-01,  4.0133e-01, -1.0798e-01, -4.3206e-01,\n",
       "           2.9026e-01, -4.7278e-01, -1.1651e+00,  9.4767e-02, -5.6068e-02,\n",
       "           6.8070e-02,  2.4093e-01, -5.4425e-01,  4.5266e-02,  3.5227e-01,\n",
       "           4.2017e-01,  6.7523e-01, -4.4635e-01, -8.0182e-01,  2.3671e-01,\n",
       "          -8.9349e-02, -2.2141e-01,  1.6843e-01, -5.2048e-02,  7.7165e-02,\n",
       "           4.5224e-01,  2.2674e-01,  4.8557e-01,  6.6537e-02, -1.9858e+00,\n",
       "          -3.2579e-01, -4.3941e-01,  3.3074e-01,  3.5881e-01, -2.5224e-01,\n",
       "           4.1756e-02,  3.4532e-01, -9.5671e-02, -1.6865e-02, -2.4821e-02,\n",
       "          -4.6335e-01,  2.5846e-01, -3.9271e-01,  4.3951e-02,  2.7592e-01,\n",
       "           8.2134e-03, -5.8214e-02,  2.7710e-02,  2.2766e-01, -6.9558e-01,\n",
       "          -1.1908e-01,  1.5971e-01,  2.5853e-01,  1.6203e-01, -5.0255e-01,\n",
       "           9.2469e-02,  4.8892e-01,  1.5527e-01, -4.1219e-03, -1.5905e-01,\n",
       "          -1.5192e-01, -6.5573e-02,  2.0555e-01,  1.1270e-01, -1.9650e-01,\n",
       "          -9.4078e-02,  6.6545e-02,  5.2400e-01, -1.7713e+00,  2.8237e-01,\n",
       "          -2.7782e-01,  4.6514e-02,  2.9320e-01, -4.9858e-01, -4.9686e-01,\n",
       "          -2.2181e-01, -3.1113e-01,  5.6246e-03, -4.2567e-01, -4.6864e-01,\n",
       "          -3.1676e-03,  3.0722e-01,  1.4690e-01,  1.5593e-01, -7.5592e-02,\n",
       "          -2.6321e-01,  4.2456e-01, -4.4160e-03,  2.5662e-01, -8.2911e-02,\n",
       "           1.1368e-01,  5.9297e-01,  9.5578e-02, -8.9979e-01, -1.2484e-01,\n",
       "          -5.1026e-01,  4.0177e-02, -8.6812e-03, -1.2797e-01, -3.5812e-01,\n",
       "           8.1547e-02,  4.5058e-02,  2.0359e-01,  1.9884e-01, -8.2996e-02,\n",
       "          -1.8305e-01, -3.6288e-01, -7.0500e-02, -8.1505e-02,  6.4255e-02,\n",
       "           3.2698e-01, -1.2975e-01,  1.3715e-01, -7.3503e-02,  4.5897e-01,\n",
       "          -2.9915e-01, -7.3382e-02, -6.9547e-02,  1.5093e-01,  1.6095e-01,\n",
       "           2.1836e-01, -6.1924e-02, -3.6835e-02, -2.0551e-01,  4.7063e-01,\n",
       "           6.4191e-01,  3.9548e-01,  4.4505e-01,  8.5851e-02, -1.9816e-01,\n",
       "           1.2901e-01, -2.5386e-01,  1.1959e-01, -5.2814e-01,  5.7167e-02,\n",
       "          -4.9090e-01,  3.5002e-01, -3.9521e-02,  2.2279e-01,  3.8666e-01,\n",
       "           3.3851e-01, -2.8352e-01, -2.7595e-02,  5.0394e-01,  1.5424e-01,\n",
       "          -1.9453e-01, -3.4410e-01, -1.8059e-01, -2.7562e-01,  5.8192e-01,\n",
       "           7.6960e-02, -1.4495e-01]]),\n",
       " 'TRUPPE-CAMMELLATE.jpg': tensor([[-3.1044e-01, -6.5406e-02, -1.7549e-01,  1.6536e-01,  9.8842e-02,\n",
       "          -1.5035e-01,  1.2262e-01, -2.3622e-01,  1.0778e-01, -1.0797e-01,\n",
       "           1.3538e-01, -6.2853e-02,  1.0018e+00, -6.3919e-02,  3.2475e-01,\n",
       "          -3.2730e-01, -5.3920e-02,  3.6715e-02, -7.0494e-03, -2.5161e-01,\n",
       "          -6.2167e-01, -2.1895e-01, -6.3913e-02, -1.1660e+00, -3.3379e-01,\n",
       "           2.0614e-01, -3.7465e-01,  1.8100e-01, -1.4753e-02,  1.9930e-01,\n",
       "          -2.1312e-01,  4.5197e-03,  7.3751e-02,  6.3959e-02, -2.0871e-01,\n",
       "           1.6758e-02,  2.2520e-01,  7.0295e-01,  4.1491e-01,  1.3069e+00,\n",
       "           3.9210e-01,  1.6800e-01,  1.0084e-01, -1.1175e-01,  6.9007e-02,\n",
       "           9.1532e-01,  2.1178e-01,  2.9218e-01,  1.4556e-01,  7.4319e-02,\n",
       "           1.3584e-01,  2.2463e-01,  3.3067e-01, -2.4521e-01, -3.9704e-01,\n",
       "           5.1427e-01,  3.8895e-01, -2.1304e-01,  3.1293e-01,  3.5251e-01,\n",
       "          -6.4682e-02,  1.9668e-01,  1.0486e-01,  3.0002e-01,  9.8789e-02,\n",
       "           5.0203e-01, -3.2245e-01, -2.8131e-02,  1.0361e-01, -4.4257e-01,\n",
       "           2.5444e-01,  1.9966e-01,  1.0792e-01,  7.4756e-01, -4.6439e-01,\n",
       "           4.0919e-01, -1.2791e-03,  1.8516e-01, -2.8621e-01,  4.9436e-01,\n",
       "           3.2938e-01, -4.7515e-01,  6.0782e-02, -4.6273e-01,  2.4095e-01,\n",
       "           7.1714e-02, -1.3205e+00,  1.3822e-01, -1.1784e-01,  1.8771e-01,\n",
       "           3.8212e-01, -1.6897e-01, -5.5740e+00,  4.4285e-01,  3.5141e-01,\n",
       "           6.2713e-01,  4.0095e-01, -4.1858e-01, -7.7914e-01,  4.2407e-01,\n",
       "          -3.9432e-01,  1.5031e-01,  1.3207e-02,  6.0335e-01, -3.9848e-01,\n",
       "          -2.4859e-01, -2.5546e+00,  2.0924e-01, -3.9926e-01, -5.9069e-02,\n",
       "          -4.0046e-01, -4.6993e-01,  1.5881e-01,  2.5488e-01, -3.1025e-01,\n",
       "          -3.8867e-01,  2.2674e-02, -8.3312e-02,  6.6667e-01, -3.9150e-01,\n",
       "          -6.2194e-02,  2.0433e-01,  3.1018e-01, -1.2810e-01, -1.3085e-01,\n",
       "          -2.9048e-01,  3.8953e-01, -8.7030e-02, -4.9257e-02, -3.8807e-01,\n",
       "           1.8630e-01,  4.9703e-03, -1.3753e-01,  7.6663e-01,  3.1354e-01,\n",
       "           3.0915e-01,  4.3238e-01,  6.2418e-01, -6.5072e-01,  3.9082e-02,\n",
       "          -4.7527e-01,  1.0164e-01, -8.7682e-01,  7.3975e-01,  3.5325e-02,\n",
       "           4.4326e-01, -2.1771e-01, -2.8337e-01, -2.1515e-01,  4.4464e-01,\n",
       "           3.5669e-01, -5.1360e-01,  4.1491e-01,  2.6136e-01, -1.0791e-01,\n",
       "          -3.9810e-01,  3.9995e-01,  4.2813e-01,  2.5676e-01, -5.0035e-02,\n",
       "          -2.7173e-01,  9.5162e-02, -4.4625e-01, -4.7995e-02,  2.8026e-01,\n",
       "           1.1442e-01,  1.5305e+00,  4.0740e-01,  1.3326e-01,  3.7794e-01,\n",
       "          -1.1451e-01,  6.8341e-01, -2.6752e-01, -5.5325e-01, -3.5884e-01,\n",
       "          -1.2657e-02, -8.3897e-01,  1.4769e-01,  4.0775e-01, -4.2476e-01,\n",
       "           4.6792e-02, -1.0436e-01, -1.1482e-01, -4.2570e-01,  4.0409e-01,\n",
       "           1.5342e-02,  1.3583e-01, -1.2771e-01, -3.2025e-01,  1.5880e-01,\n",
       "          -2.5329e-01,  1.8195e-02,  3.7930e-01, -2.0082e-01,  1.3564e-01,\n",
       "           2.3164e-01,  3.7802e-01, -2.1436e-01, -4.2338e-01, -9.5539e-02,\n",
       "           2.1161e-01, -5.6076e-02,  1.4938e-01,  1.9457e-01,  3.1979e-01,\n",
       "           1.1342e-01, -2.1945e-01, -1.4315e-01,  2.5312e-01,  1.6661e-02,\n",
       "          -3.3679e-01, -2.6100e-01,  2.3493e-01,  3.6324e-01,  1.5779e-01,\n",
       "           6.1858e-01, -2.5880e-01,  1.0120e+00, -5.0386e-01, -4.5264e-01,\n",
       "           3.1655e-02,  4.4014e-01,  4.7128e-02, -2.2843e-01, -1.4380e-02,\n",
       "          -1.1421e-01, -1.5120e-01, -9.8066e-02, -3.3510e-01, -6.0472e-03,\n",
       "          -3.4380e-01,  1.4297e-02,  7.7355e-02,  1.4811e-01,  7.2734e-02,\n",
       "          -3.7573e-01,  1.0153e-01, -4.7544e-01, -1.0258e-01, -4.3065e-02,\n",
       "          -1.5717e-03, -1.4149e-01,  2.4276e-01, -5.4936e-01,  1.3854e-02,\n",
       "          -2.9240e-01, -1.7189e-02, -2.4962e-01,  1.4378e-01,  1.4316e-01,\n",
       "           1.4706e-01,  3.3866e-01, -1.2252e-02, -7.6343e-02,  2.7266e-01,\n",
       "          -5.3655e-03,  1.5035e-01,  3.1790e-02,  2.0061e+00, -1.6175e-01,\n",
       "          -4.9707e-01, -1.7783e-01, -1.6790e-01,  1.3585e+00, -1.9662e-02,\n",
       "          -5.5264e-02, -4.5842e-02, -7.7105e-02, -1.8152e-02, -1.1203e-02,\n",
       "           2.2080e-01,  8.8141e-02,  2.4739e-02, -2.5355e-02,  2.0736e-01,\n",
       "          -2.4760e-02,  1.1117e-01, -9.9720e-02,  2.6558e-01,  1.0866e-01,\n",
       "          -2.4542e-01, -3.3859e-01, -4.2732e-01,  3.1613e-02, -2.9709e-01,\n",
       "          -9.0613e-02, -1.0386e+00,  2.4318e-01, -4.8439e-02,  2.2855e-02,\n",
       "           1.5603e-01,  1.6996e-01, -1.1986e-01,  4.2948e-01, -9.3495e-02,\n",
       "           3.3213e-01,  4.3294e-01,  3.5084e-01,  4.4439e-01, -3.2035e-01,\n",
       "          -9.6599e-02, -3.8882e-01,  3.0317e-01,  3.9546e-01,  6.8059e-01,\n",
       "          -1.8291e-01, -3.0144e-01,  8.8915e-02,  4.9043e-02,  2.4131e-02,\n",
       "          -1.1629e-01,  7.4160e-01,  7.6694e-01, -4.0444e-01,  3.3633e-01,\n",
       "           3.2214e-02,  2.1693e-01,  1.2255e-01,  9.9202e-02, -4.7039e-01,\n",
       "           1.1719e-01,  5.4562e-03,  2.1076e-02,  6.5395e-02, -1.1159e-01,\n",
       "           3.1096e-01,  2.5117e-01, -2.3026e-01,  6.6326e-02, -5.3175e-01,\n",
       "           3.7753e-02, -1.5341e-01,  3.5412e-02,  2.2596e-01, -3.5298e-01,\n",
       "           4.2843e-02,  2.1922e-01, -1.0767e-01, -9.9640e-02, -3.1350e-01,\n",
       "           4.1038e-01, -8.3757e-02, -2.2336e-01, -1.6151e-01,  2.0538e-01,\n",
       "           3.2132e-01,  1.1108e-03, -9.9137e-02,  1.0471e-02, -2.0431e-02,\n",
       "          -6.0506e-01,  3.6595e-01,  6.1687e-01, -1.7363e-01,  4.0548e-02,\n",
       "           1.0783e-01, -3.5338e-01, -7.7031e-01,  2.3284e-01,  5.4684e-03,\n",
       "           8.5599e-01,  3.5030e-01, -1.3292e-01, -5.7565e-02, -3.7192e-01,\n",
       "           2.1223e-01, -4.6940e-01, -8.7355e-01, -2.2048e-01,  5.3195e-01,\n",
       "          -3.2005e-01, -1.4524e-01, -3.6361e-01, -1.3790e-01, -1.6139e-01,\n",
       "          -2.1945e-01,  1.3436e+00, -2.9714e-01,  1.3428e+00, -2.8221e-01,\n",
       "          -8.4138e-02,  2.2918e-01,  1.9078e-01, -2.9833e-01,  1.2019e-01,\n",
       "           4.4159e-01,  1.7259e-01,  2.9800e-01, -1.8022e-01,  1.0078e-01,\n",
       "          -4.6856e-01,  2.5276e-02,  1.1169e-01,  1.1125e-01, -2.2995e-01,\n",
       "          -1.7957e-02, -3.6214e-01, -1.2904e-01, -1.8444e-01, -5.7082e-01,\n",
       "          -1.4042e-01,  1.5532e-01,  3.5031e-01, -1.2373e-01,  7.1161e-02,\n",
       "          -5.2240e-02,  3.8932e-01, -1.8857e-01,  6.8056e-01, -4.8114e-01,\n",
       "           1.0478e+00, -3.3893e-01, -2.9718e-01, -1.1453e-01, -2.2184e-01,\n",
       "          -1.4562e-01,  3.3223e-01, -3.5689e-01, -9.7938e-02, -7.4898e-01,\n",
       "          -2.7533e-01,  1.6685e-01, -6.6099e-02,  9.2260e-01, -6.5398e-02,\n",
       "          -4.5914e-01, -1.8375e-01, -5.0256e-01,  7.4810e-02,  7.0142e-02,\n",
       "          -1.6416e-01,  4.9851e-01, -3.9184e-01, -1.6857e-01,  7.6366e-02,\n",
       "          -6.6724e-01,  1.5173e-01, -2.9690e-01, -4.2893e-01, -8.5448e-03,\n",
       "           5.0253e-02,  2.0382e-01,  4.7286e-01, -4.1174e-01, -1.9073e-01,\n",
       "           1.6658e-01,  1.4916e-01, -4.7609e-01, -3.6069e-01, -8.4896e-02,\n",
       "          -7.7232e-01,  3.9864e-03,  5.6576e-01, -6.4114e-01,  1.1664e-01,\n",
       "          -3.3885e-01,  8.2145e-01, -6.9748e-02, -3.2450e-01,  1.2106e-01,\n",
       "          -9.1030e-02,  3.9367e-01, -2.1481e-01,  3.4894e-01,  1.1031e-01,\n",
       "           1.9611e-01, -1.0969e-01,  3.3308e-01, -5.2192e-01,  8.1672e-02,\n",
       "           5.2454e-01,  2.1557e-01, -4.9985e-01, -2.1559e-01,  4.5248e-02,\n",
       "          -4.8404e-01, -2.3471e-01, -1.9505e-01,  5.9090e-02,  9.7627e-02,\n",
       "           3.7518e-02, -3.1824e-01, -7.3993e-02,  2.2669e-02, -9.2686e-02,\n",
       "          -1.3007e-01, -8.6026e-01, -3.3170e-01, -7.4759e-02,  2.5610e-02,\n",
       "          -1.8091e-01, -8.0643e-02, -1.0598e-01, -4.7778e-01, -2.5860e-02,\n",
       "          -2.7469e-01,  5.7090e-01, -2.0130e-01, -1.7221e-01, -5.5871e-02,\n",
       "          -5.5463e-01,  3.5546e-01, -3.4831e-01, -5.5604e-02, -8.9400e-01,\n",
       "           1.3665e-02, -4.5992e-01,  2.0003e-01,  1.5025e-01,  4.9602e-01,\n",
       "           2.1381e-01, -9.1200e-02]])}"
      ]
     },
     "execution_count": 9,
     "metadata": {},
     "output_type": "execute_result"
    }
   ],
   "source": [
    "img_emb_dict"
   ]
  },
  {
   "cell_type": "code",
   "execution_count": 10,
   "metadata": {},
   "outputs": [
    {
     "data": {
      "text/plain": [
       "3"
      ]
     },
     "execution_count": 10,
     "metadata": {},
     "output_type": "execute_result"
    }
   ],
   "source": [
    "\n",
    "# create a list of ImageDocument objects, one for each image in the dataset\n",
    "img_documents = []\n",
    "for image_filename in image_metadata_dict:\n",
    "    # the img_emb_dict dictionary contains the image embeddings\n",
    "    if image_filename in img_emb_dict:\n",
    "        \n",
    "        filename = image_metadata_dict[image_filename][\"filename\"]\n",
    "        filepath = image_metadata_dict[image_filename][\"img_path\"]\n",
    "\n",
    "        # create an ImageDocument for each image \n",
    "        newImgDoc = ImageDocument(\n",
    "            text=filename, metadata={\"filepath\": filepath}\n",
    "        )\n",
    "\n",
    "        # set image embedding on the ImageDocument\n",
    "        newImgDoc.embedding = img_emb_dict[image_filename].tolist()[0]\n",
    "        img_documents.append(newImgDoc)\n",
    "\n",
    "len(img_documents)"
   ]
  },
  {
   "cell_type": "code",
   "execution_count": 15,
   "metadata": {},
   "outputs": [],
   "source": [
    "qdrantClient.index_llamaindex_documents(qdrantClient.client, COLLECTION_NAME, img_documents)"
   ]
  },
  {
   "cell_type": "markdown",
   "metadata": {},
   "source": [
    "# Retrieve"
   ]
  },
  {
   "cell_type": "code",
   "execution_count": 24,
   "metadata": {},
   "outputs": [],
   "source": [
    "from llama_index.core.vector_stores import VectorStoreQuery\n",
    "from llama_index.vector_stores.qdrant import QdrantVectorStore\n",
    "from llama_index.core import VectorStoreIndex, StorageContext\n",
    "import matplotlib.pyplot as plt"
   ]
  },
  {
   "cell_type": "code",
   "execution_count": 25,
   "metadata": {},
   "outputs": [],
   "source": [
    "\n",
    "# take a text query as input and return the most similar image from the vector store\n",
    "def retrieve_results_from_image_index(query):\n",
    "\n",
    "    # first tokenize the text query and convert it to a tensor\n",
    "    text = clip.tokenize(query).to(device)\n",
    "\n",
    "    # encode the text tensor using the CLIP model to produce a query embedding\n",
    "    query_embedding = model.encode_text(text).tolist()[0]\n",
    "\n",
    "    # create a VectorStoreQuery\n",
    "    image_vector_store_query = VectorStoreQuery(\n",
    "        query_embedding=query_embedding,\n",
    "        similarity_top_k=1, # only return 1 image\n",
    "        mode=\"default\",\n",
    "    )\n",
    "\n",
    "    # execute the query against the image vector store\n",
    "    image_retrieval_results = image_vector_store.query(\n",
    "        image_vector_store_query\n",
    "    )\n",
    "    return image_retrieval_results\n",
    "\n",
    "\n",
    "# take a list of image retrieval results and create a new figure with a size of 16 by 5 inches\n",
    "def plot_image_retrieve_results(image_retrieval_results):\n",
    "    plt.figure(figsize=(16, 5))\n",
    "\n",
    "    img_cnt = 0\n",
    "    # iterate over the image retrieval results, and for each result, display the corresponding image and its score in a subplot.\n",
    "    # The subplot is 2 by 3, and the image is displayed in the img_cnt + 1th subplot.\n",
    "    # The title of the subplot is the score of the image, formatted to four decimal places.\n",
    "    for returned_image, score in zip(\n",
    "        image_retrieval_results.nodes, image_retrieval_results.similarities\n",
    "    ):\n",
    "        img_name = returned_image.text\n",
    "        img_path = returned_image.metadata[\"filepath\"]\n",
    "        image = Image.open(img_path).convert(\"RGB\")\n",
    "\n",
    "        plt.subplot(2, 3, img_cnt + 1)\n",
    "        plt.title(\"{:.4f}\".format(score))\n",
    "\n",
    "        plt.imshow(image)\n",
    "        plt.xticks([])\n",
    "        plt.yticks([])\n",
    "        img_cnt += 1\n",
    "\n",
    "\n",
    "# define image_query function\n",
    "def image_query(query):\n",
    "    image_retrieval_results = retrieve_results_from_image_index(query)\n",
    "    text_retrieval \n",
    "    plot_image_retrieve_results(image_retrieval_results)"
   ]
  },
  {
   "cell_type": "code",
   "execution_count": 30,
   "metadata": {},
   "outputs": [
    {
     "data": {
      "text/plain": [
       "VectorStoreQueryResult(nodes=[ImageNode(id_='dc9e0612-a484-4038-a16c-7b1ab8eb69b9', embedding=None, metadata={'filepath': 'c:\\\\Users\\\\ELAFACRB1\\\\Codice\\\\GitHub\\\\multimodal-rag\\\\notebooks\\\\data\\\\images\\\\TRUPPE-CAMMELLATE.jpg'}, excluded_embed_metadata_keys=[], excluded_llm_metadata_keys=[], relationships={<NodeRelationship.SOURCE: '1'>: RelatedNodeInfo(node_id='484b8b11-5fd4-4d4a-99ca-a17dd669b42a', node_type=<ObjectType.DOCUMENT: '4'>, metadata={'filepath': 'c:\\\\Users\\\\ELAFACRB1\\\\Codice\\\\GitHub\\\\multimodal-rag\\\\notebooks\\\\data\\\\images\\\\TRUPPE-CAMMELLATE.jpg'}, hash='6c872d6221db2c25f94b7d15ebb8ef5078e5c0487e497e60489b2b66f1d3c92d')}, text='TRUPPE-CAMMELLATE.jpg', mimetype='text/plain', start_char_idx=0, end_char_idx=21, text_template='{metadata_str}\\n\\n{content}', metadata_template='{key}: {value}', metadata_seperator='\\n', image=None, image_path=None, image_url=None, image_mimetype=None, text_embedding=None)], similarities=[28.171858], ids=['dc9e0612-a484-4038-a16c-7b1ab8eb69b9'])"
      ]
     },
     "execution_count": 30,
     "metadata": {},
     "output_type": "execute_result"
    }
   ],
   "source": [
    "query=\"what does the camel rider have in their hands?\"\n",
    "image_retrieval_results = retrieve_results_from_image_index(query)\n",
    "image_retrieval_results"
   ]
  },
  {
   "cell_type": "code",
   "execution_count": 31,
   "metadata": {},
   "outputs": [
    {
     "data": {
      "image/png": "[encoded data removed]",
      "text/plain": [
       "<Figure size 1600x500 with 1 Axes>"
      ]
     },
     "metadata": {},
     "output_type": "display_data"
    }
   ],
   "source": [
    "image_query(query)"
   ]
  },
  {
   "cell_type": "code",
   "execution_count": null,
   "metadata": {},
   "outputs": [],
   "source": []
  }
 ],
 "metadata": {
  "kernelspec": {
   "display_name": "multimodal",
   "language": "python",
   "name": "python3"
  },
  "language_info": {
   "codemirror_mode": {
    "name": "ipython",
    "version": 3
   },
   "file_extension": ".py",
   "mimetype": "text/x-python",
   "name": "python",
   "nbconvert_exporter": "python",
   "pygments_lexer": "ipython3",
   "version": "3.11.9"
  }
 },
 "nbformat": 4,
 "nbformat_minor": 2
}
